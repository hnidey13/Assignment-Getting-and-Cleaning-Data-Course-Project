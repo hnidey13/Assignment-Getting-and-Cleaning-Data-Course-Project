{
  "nbformat": 4,
  "nbformat_minor": 0,
  "metadata": {
    "colab": {
      "provenance": [],
      "collapsed_sections": [
        "uVUrPzXJpnUO"
      ],
      "authorship_tag": "ABX9TyO4BVswMHCwQKmiUJ4UxD0z",
      "include_colab_link": true
    },
    "kernelspec": {
      "name": "python3",
      "display_name": "Python 3"
    },
    "language_info": {
      "name": "python"
    },
    "widgets": {
      "application/vnd.jupyter.widget-state+json": {
        "38f9fe9e3afb423da2eb4fb15dfc230b": {
          "model_module": "@jupyter-widgets/controls",
          "model_name": "VBoxModel",
          "model_module_version": "1.5.0",
          "state": {
            "_dom_classes": [
              "widget-interact"
            ],
            "_model_module": "@jupyter-widgets/controls",
            "_model_module_version": "1.5.0",
            "_model_name": "VBoxModel",
            "_view_count": null,
            "_view_module": "@jupyter-widgets/controls",
            "_view_module_version": "1.5.0",
            "_view_name": "VBoxView",
            "box_style": "",
            "children": [
              "IPY_MODEL_a736e227aa5549e9b50680c18a61cb27",
              "IPY_MODEL_ec7235a629c04776a4e2ba45757a5e2e",
              "IPY_MODEL_ab503ddd5e8d4d3ab4bf00c53af294d1",
              "IPY_MODEL_ef5a382a2185435791c9fda55fbb32bc",
              "IPY_MODEL_5bda8dc4c5b847469fd1e9d4c5f7ec6d"
            ],
            "layout": "IPY_MODEL_c78e09df097b473a8897a165ee7fcaf3"
          }
        },
        "a736e227aa5549e9b50680c18a61cb27": {
          "model_module": "@jupyter-widgets/controls",
          "model_name": "IntSliderModel",
          "model_module_version": "1.5.0",
          "state": {
            "_dom_classes": [],
            "_model_module": "@jupyter-widgets/controls",
            "_model_module_version": "1.5.0",
            "_model_name": "IntSliderModel",
            "_view_count": null,
            "_view_module": "@jupyter-widgets/controls",
            "_view_module_version": "1.5.0",
            "_view_name": "IntSliderView",
            "continuous_update": true,
            "description": "n",
            "description_tooltip": null,
            "disabled": false,
            "layout": "IPY_MODEL_fb7928d6ac754adaa220cc134544186e",
            "max": 100,
            "min": 10,
            "orientation": "horizontal",
            "readout": true,
            "readout_format": "d",
            "step": 10,
            "style": "IPY_MODEL_f56999d04f6f4bd5960f1b8c609ebc9c",
            "value": 50
          }
        },
        "ec7235a629c04776a4e2ba45757a5e2e": {
          "model_module": "@jupyter-widgets/controls",
          "model_name": "FloatSliderModel",
          "model_module_version": "1.5.0",
          "state": {
            "_dom_classes": [],
            "_model_module": "@jupyter-widgets/controls",
            "_model_module_version": "1.5.0",
            "_model_name": "FloatSliderModel",
            "_view_count": null,
            "_view_module": "@jupyter-widgets/controls",
            "_view_module_version": "1.5.0",
            "_view_name": "FloatSliderView",
            "continuous_update": true,
            "description": "a",
            "description_tooltip": null,
            "disabled": false,
            "layout": "IPY_MODEL_a8a0ae7e211841099e74528e70ae9b01",
            "max": 10,
            "min": 0.1,
            "orientation": "horizontal",
            "readout": true,
            "readout_format": ".2f",
            "step": 0.1,
            "style": "IPY_MODEL_4ef75657df3f49b3a45315f15ff67702",
            "value": 0.1
          }
        },
        "ab503ddd5e8d4d3ab4bf00c53af294d1": {
          "model_module": "@jupyter-widgets/controls",
          "model_name": "FloatSliderModel",
          "model_module_version": "1.5.0",
          "state": {
            "_dom_classes": [],
            "_model_module": "@jupyter-widgets/controls",
            "_model_module_version": "1.5.0",
            "_model_name": "FloatSliderModel",
            "_view_count": null,
            "_view_module": "@jupyter-widgets/controls",
            "_view_module_version": "1.5.0",
            "_view_name": "FloatSliderView",
            "continuous_update": true,
            "description": "b",
            "description_tooltip": null,
            "disabled": false,
            "layout": "IPY_MODEL_77a8c803d82d4c27b68eaa4f7627869a",
            "max": 10,
            "min": 0.1,
            "orientation": "horizontal",
            "readout": true,
            "readout_format": ".2f",
            "step": 0.1,
            "style": "IPY_MODEL_2a4bf14b4756490ba016c90e8b63a19d",
            "value": 0.1
          }
        },
        "ef5a382a2185435791c9fda55fbb32bc": {
          "model_module": "@jupyter-widgets/controls",
          "model_name": "ButtonModel",
          "model_module_version": "1.5.0",
          "state": {
            "_dom_classes": [],
            "_model_module": "@jupyter-widgets/controls",
            "_model_module_version": "1.5.0",
            "_model_name": "ButtonModel",
            "_view_count": null,
            "_view_module": "@jupyter-widgets/controls",
            "_view_module_version": "1.5.0",
            "_view_name": "ButtonView",
            "button_style": "",
            "description": "Update Plot",
            "disabled": false,
            "icon": "",
            "layout": "IPY_MODEL_828252827ff2440092707b959de74876",
            "style": "IPY_MODEL_8038ad3d7f704b7ca330417c9a7560fd",
            "tooltip": ""
          }
        },
        "5bda8dc4c5b847469fd1e9d4c5f7ec6d": {
          "model_module": "@jupyter-widgets/output",
          "model_name": "OutputModel",
          "model_module_version": "1.0.0",
          "state": {
            "_dom_classes": [],
            "_model_module": "@jupyter-widgets/output",
            "_model_module_version": "1.0.0",
            "_model_name": "OutputModel",
            "_view_count": null,
            "_view_module": "@jupyter-widgets/output",
            "_view_module_version": "1.0.0",
            "_view_name": "OutputView",
            "layout": "IPY_MODEL_b37faeff29d84b08b6c0f3f1f99e33bd",
            "msg_id": "",
            "outputs": [
              {
                "output_type": "stream",
                "name": "stdout",
                "text": [
                  "Real value of θ: [1.03105082e-09]\n",
                  "Number of zeros: 50 \n",
                  "Number of ones: 0\n"
                ]
              },
              {
                "output_type": "display_data",
                "data": {
                  "text/plain": "<Figure size 640x480 with 1 Axes>",
                  "image/png": "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\n"
                },
                "metadata": {}
              }
            ]
          }
        },
        "c78e09df097b473a8897a165ee7fcaf3": {
          "model_module": "@jupyter-widgets/base",
          "model_name": "LayoutModel",
          "model_module_version": "1.2.0",
          "state": {
            "_model_module": "@jupyter-widgets/base",
            "_model_module_version": "1.2.0",
            "_model_name": "LayoutModel",
            "_view_count": null,
            "_view_module": "@jupyter-widgets/base",
            "_view_module_version": "1.2.0",
            "_view_name": "LayoutView",
            "align_content": null,
            "align_items": null,
            "align_self": null,
            "border": null,
            "bottom": null,
            "display": null,
            "flex": null,
            "flex_flow": null,
            "grid_area": null,
            "grid_auto_columns": null,
            "grid_auto_flow": null,
            "grid_auto_rows": null,
            "grid_column": null,
            "grid_gap": null,
            "grid_row": null,
            "grid_template_areas": null,
            "grid_template_columns": null,
            "grid_template_rows": null,
            "height": null,
            "justify_content": null,
            "justify_items": null,
            "left": null,
            "margin": null,
            "max_height": null,
            "max_width": null,
            "min_height": null,
            "min_width": null,
            "object_fit": null,
            "object_position": null,
            "order": null,
            "overflow": null,
            "overflow_x": null,
            "overflow_y": null,
            "padding": null,
            "right": null,
            "top": null,
            "visibility": null,
            "width": null
          }
        },
        "fb7928d6ac754adaa220cc134544186e": {
          "model_module": "@jupyter-widgets/base",
          "model_name": "LayoutModel",
          "model_module_version": "1.2.0",
          "state": {
            "_model_module": "@jupyter-widgets/base",
            "_model_module_version": "1.2.0",
            "_model_name": "LayoutModel",
            "_view_count": null,
            "_view_module": "@jupyter-widgets/base",
            "_view_module_version": "1.2.0",
            "_view_name": "LayoutView",
            "align_content": null,
            "align_items": null,
            "align_self": null,
            "border": null,
            "bottom": null,
            "display": null,
            "flex": null,
            "flex_flow": null,
            "grid_area": "left-sidebar",
            "grid_auto_columns": null,
            "grid_auto_flow": null,
            "grid_auto_rows": null,
            "grid_column": null,
            "grid_gap": null,
            "grid_row": null,
            "grid_template_areas": null,
            "grid_template_columns": null,
            "grid_template_rows": null,
            "height": null,
            "justify_content": null,
            "justify_items": null,
            "left": null,
            "margin": null,
            "max_height": null,
            "max_width": null,
            "min_height": null,
            "min_width": null,
            "object_fit": null,
            "object_position": null,
            "order": null,
            "overflow": null,
            "overflow_x": null,
            "overflow_y": null,
            "padding": null,
            "right": null,
            "top": null,
            "visibility": null,
            "width": null
          }
        },
        "f56999d04f6f4bd5960f1b8c609ebc9c": {
          "model_module": "@jupyter-widgets/controls",
          "model_name": "SliderStyleModel",
          "model_module_version": "1.5.0",
          "state": {
            "_model_module": "@jupyter-widgets/controls",
            "_model_module_version": "1.5.0",
            "_model_name": "SliderStyleModel",
            "_view_count": null,
            "_view_module": "@jupyter-widgets/base",
            "_view_module_version": "1.2.0",
            "_view_name": "StyleView",
            "description_width": "",
            "handle_color": null
          }
        },
        "a8a0ae7e211841099e74528e70ae9b01": {
          "model_module": "@jupyter-widgets/base",
          "model_name": "LayoutModel",
          "model_module_version": "1.2.0",
          "state": {
            "_model_module": "@jupyter-widgets/base",
            "_model_module_version": "1.2.0",
            "_model_name": "LayoutModel",
            "_view_count": null,
            "_view_module": "@jupyter-widgets/base",
            "_view_module_version": "1.2.0",
            "_view_name": "LayoutView",
            "align_content": null,
            "align_items": null,
            "align_self": null,
            "border": null,
            "bottom": null,
            "display": null,
            "flex": null,
            "flex_flow": null,
            "grid_area": null,
            "grid_auto_columns": null,
            "grid_auto_flow": null,
            "grid_auto_rows": null,
            "grid_column": null,
            "grid_gap": null,
            "grid_row": null,
            "grid_template_areas": null,
            "grid_template_columns": null,
            "grid_template_rows": null,
            "height": null,
            "justify_content": null,
            "justify_items": null,
            "left": null,
            "margin": null,
            "max_height": null,
            "max_width": null,
            "min_height": null,
            "min_width": null,
            "object_fit": null,
            "object_position": null,
            "order": null,
            "overflow": null,
            "overflow_x": null,
            "overflow_y": null,
            "padding": null,
            "right": null,
            "top": null,
            "visibility": null,
            "width": null
          }
        },
        "4ef75657df3f49b3a45315f15ff67702": {
          "model_module": "@jupyter-widgets/controls",
          "model_name": "SliderStyleModel",
          "model_module_version": "1.5.0",
          "state": {
            "_model_module": "@jupyter-widgets/controls",
            "_model_module_version": "1.5.0",
            "_model_name": "SliderStyleModel",
            "_view_count": null,
            "_view_module": "@jupyter-widgets/base",
            "_view_module_version": "1.2.0",
            "_view_name": "StyleView",
            "description_width": "",
            "handle_color": null
          }
        },
        "77a8c803d82d4c27b68eaa4f7627869a": {
          "model_module": "@jupyter-widgets/base",
          "model_name": "LayoutModel",
          "model_module_version": "1.2.0",
          "state": {
            "_model_module": "@jupyter-widgets/base",
            "_model_module_version": "1.2.0",
            "_model_name": "LayoutModel",
            "_view_count": null,
            "_view_module": "@jupyter-widgets/base",
            "_view_module_version": "1.2.0",
            "_view_name": "LayoutView",
            "align_content": null,
            "align_items": null,
            "align_self": null,
            "border": null,
            "bottom": null,
            "display": null,
            "flex": null,
            "flex_flow": null,
            "grid_area": null,
            "grid_auto_columns": null,
            "grid_auto_flow": null,
            "grid_auto_rows": null,
            "grid_column": null,
            "grid_gap": null,
            "grid_row": null,
            "grid_template_areas": null,
            "grid_template_columns": null,
            "grid_template_rows": null,
            "height": null,
            "justify_content": null,
            "justify_items": null,
            "left": null,
            "margin": null,
            "max_height": null,
            "max_width": null,
            "min_height": null,
            "min_width": null,
            "object_fit": null,
            "object_position": null,
            "order": null,
            "overflow": null,
            "overflow_x": null,
            "overflow_y": null,
            "padding": null,
            "right": null,
            "top": null,
            "visibility": null,
            "width": null
          }
        },
        "2a4bf14b4756490ba016c90e8b63a19d": {
          "model_module": "@jupyter-widgets/controls",
          "model_name": "SliderStyleModel",
          "model_module_version": "1.5.0",
          "state": {
            "_model_module": "@jupyter-widgets/controls",
            "_model_module_version": "1.5.0",
            "_model_name": "SliderStyleModel",
            "_view_count": null,
            "_view_module": "@jupyter-widgets/base",
            "_view_module_version": "1.2.0",
            "_view_name": "StyleView",
            "description_width": "",
            "handle_color": null
          }
        },
        "828252827ff2440092707b959de74876": {
          "model_module": "@jupyter-widgets/base",
          "model_name": "LayoutModel",
          "model_module_version": "1.2.0",
          "state": {
            "_model_module": "@jupyter-widgets/base",
            "_model_module_version": "1.2.0",
            "_model_name": "LayoutModel",
            "_view_count": null,
            "_view_module": "@jupyter-widgets/base",
            "_view_module_version": "1.2.0",
            "_view_name": "LayoutView",
            "align_content": null,
            "align_items": null,
            "align_self": null,
            "border": null,
            "bottom": null,
            "display": null,
            "flex": null,
            "flex_flow": null,
            "grid_area": null,
            "grid_auto_columns": null,
            "grid_auto_flow": null,
            "grid_auto_rows": null,
            "grid_column": null,
            "grid_gap": null,
            "grid_row": null,
            "grid_template_areas": null,
            "grid_template_columns": null,
            "grid_template_rows": null,
            "height": null,
            "justify_content": null,
            "justify_items": null,
            "left": null,
            "margin": null,
            "max_height": null,
            "max_width": null,
            "min_height": null,
            "min_width": null,
            "object_fit": null,
            "object_position": null,
            "order": null,
            "overflow": null,
            "overflow_x": null,
            "overflow_y": null,
            "padding": null,
            "right": null,
            "top": null,
            "visibility": null,
            "width": null
          }
        },
        "8038ad3d7f704b7ca330417c9a7560fd": {
          "model_module": "@jupyter-widgets/controls",
          "model_name": "ButtonStyleModel",
          "model_module_version": "1.5.0",
          "state": {
            "_model_module": "@jupyter-widgets/controls",
            "_model_module_version": "1.5.0",
            "_model_name": "ButtonStyleModel",
            "_view_count": null,
            "_view_module": "@jupyter-widgets/base",
            "_view_module_version": "1.2.0",
            "_view_name": "StyleView",
            "button_color": null,
            "font_weight": ""
          }
        },
        "b37faeff29d84b08b6c0f3f1f99e33bd": {
          "model_module": "@jupyter-widgets/base",
          "model_name": "LayoutModel",
          "model_module_version": "1.2.0",
          "state": {
            "_model_module": "@jupyter-widgets/base",
            "_model_module_version": "1.2.0",
            "_model_name": "LayoutModel",
            "_view_count": null,
            "_view_module": "@jupyter-widgets/base",
            "_view_module_version": "1.2.0",
            "_view_name": "LayoutView",
            "align_content": null,
            "align_items": null,
            "align_self": null,
            "border": null,
            "bottom": null,
            "display": null,
            "flex": null,
            "flex_flow": null,
            "grid_area": null,
            "grid_auto_columns": null,
            "grid_auto_flow": null,
            "grid_auto_rows": null,
            "grid_column": null,
            "grid_gap": null,
            "grid_row": null,
            "grid_template_areas": null,
            "grid_template_columns": null,
            "grid_template_rows": null,
            "height": null,
            "justify_content": null,
            "justify_items": null,
            "left": null,
            "margin": null,
            "max_height": null,
            "max_width": null,
            "min_height": null,
            "min_width": null,
            "object_fit": null,
            "object_position": null,
            "order": null,
            "overflow": null,
            "overflow_x": null,
            "overflow_y": null,
            "padding": null,
            "right": null,
            "top": null,
            "visibility": null,
            "width": null
          }
        },
        "7db6957541d64d4d96b36892662178df": {
          "model_module": "@jupyter-widgets/controls",
          "model_name": "GridBoxModel",
          "model_module_version": "1.5.0",
          "state": {
            "_dom_classes": [],
            "_model_module": "@jupyter-widgets/controls",
            "_model_module_version": "1.5.0",
            "_model_name": "GridBoxModel",
            "_view_count": null,
            "_view_module": "@jupyter-widgets/controls",
            "_view_module_version": "1.5.0",
            "_view_name": "GridBoxView",
            "box_style": "",
            "children": [
              "IPY_MODEL_a736e227aa5549e9b50680c18a61cb27",
              "IPY_MODEL_730151ed4cc5439581b7d44097f0ecfb"
            ],
            "layout": "IPY_MODEL_cb02ae2efa904d0bacfb5b8aad810215"
          }
        },
        "730151ed4cc5439581b7d44097f0ecfb": {
          "model_module": "@jupyter-widgets/controls",
          "model_name": "ButtonModel",
          "model_module_version": "1.5.0",
          "state": {
            "_dom_classes": [],
            "_model_module": "@jupyter-widgets/controls",
            "_model_module_version": "1.5.0",
            "_model_name": "ButtonModel",
            "_view_count": null,
            "_view_module": "@jupyter-widgets/controls",
            "_view_module_version": "1.5.0",
            "_view_name": "ButtonView",
            "button_style": "warning",
            "description": "Center",
            "disabled": false,
            "icon": "",
            "layout": "IPY_MODEL_175193146d0544d185c3a2156683a516",
            "style": "IPY_MODEL_5549bc301477452cb6e8eb8854a5f601",
            "tooltip": ""
          }
        },
        "cb02ae2efa904d0bacfb5b8aad810215": {
          "model_module": "@jupyter-widgets/base",
          "model_name": "LayoutModel",
          "model_module_version": "1.2.0",
          "state": {
            "_model_module": "@jupyter-widgets/base",
            "_model_module_version": "1.2.0",
            "_model_name": "LayoutModel",
            "_view_count": null,
            "_view_module": "@jupyter-widgets/base",
            "_view_module_version": "1.2.0",
            "_view_name": "LayoutView",
            "align_content": null,
            "align_items": null,
            "align_self": null,
            "border": null,
            "bottom": null,
            "display": null,
            "flex": null,
            "flex_flow": null,
            "grid_area": null,
            "grid_auto_columns": null,
            "grid_auto_flow": null,
            "grid_auto_rows": null,
            "grid_column": null,
            "grid_gap": null,
            "grid_row": null,
            "grid_template_areas": "\"left-sidebar center center\"",
            "grid_template_columns": "1fr 2fr 1fr",
            "grid_template_rows": "3fr",
            "height": null,
            "justify_content": null,
            "justify_items": null,
            "left": null,
            "margin": null,
            "max_height": null,
            "max_width": null,
            "min_height": null,
            "min_width": null,
            "object_fit": null,
            "object_position": null,
            "order": null,
            "overflow": null,
            "overflow_x": null,
            "overflow_y": null,
            "padding": null,
            "right": null,
            "top": null,
            "visibility": null,
            "width": null
          }
        },
        "175193146d0544d185c3a2156683a516": {
          "model_module": "@jupyter-widgets/base",
          "model_name": "LayoutModel",
          "model_module_version": "1.2.0",
          "state": {
            "_model_module": "@jupyter-widgets/base",
            "_model_module_version": "1.2.0",
            "_model_name": "LayoutModel",
            "_view_count": null,
            "_view_module": "@jupyter-widgets/base",
            "_view_module_version": "1.2.0",
            "_view_name": "LayoutView",
            "align_content": null,
            "align_items": null,
            "align_self": null,
            "border": null,
            "bottom": null,
            "display": null,
            "flex": null,
            "flex_flow": null,
            "grid_area": "center",
            "grid_auto_columns": null,
            "grid_auto_flow": null,
            "grid_auto_rows": null,
            "grid_column": null,
            "grid_gap": null,
            "grid_row": null,
            "grid_template_areas": null,
            "grid_template_columns": null,
            "grid_template_rows": null,
            "height": "auto",
            "justify_content": null,
            "justify_items": null,
            "left": null,
            "margin": null,
            "max_height": null,
            "max_width": null,
            "min_height": null,
            "min_width": null,
            "object_fit": null,
            "object_position": null,
            "order": null,
            "overflow": null,
            "overflow_x": null,
            "overflow_y": null,
            "padding": null,
            "right": null,
            "top": null,
            "visibility": null,
            "width": "auto"
          }
        },
        "5549bc301477452cb6e8eb8854a5f601": {
          "model_module": "@jupyter-widgets/controls",
          "model_name": "ButtonStyleModel",
          "model_module_version": "1.5.0",
          "state": {
            "_model_module": "@jupyter-widgets/controls",
            "_model_module_version": "1.5.0",
            "_model_name": "ButtonStyleModel",
            "_view_count": null,
            "_view_module": "@jupyter-widgets/base",
            "_view_module_version": "1.2.0",
            "_view_name": "StyleView",
            "button_color": null,
            "font_weight": ""
          }
        }
      }
    }
  },
  "cells": [
    {
      "cell_type": "markdown",
      "metadata": {
        "id": "view-in-github",
        "colab_type": "text"
      },
      "source": [
        "<a href=\"https://colab.research.google.com/github/hnidey13/Assignment-Getting-and-Cleaning-Data-Course-Project/blob/master/Bayesian_discussion.ipynb\" target=\"_parent\"><img src=\"https://colab.research.google.com/assets/colab-badge.svg\" alt=\"Open In Colab\"/></a>"
      ]
    },
    {
      "cell_type": "markdown",
      "source": [
        "# **Explorando un Modelo Estadístico con la versátil Distribución Beta**"
      ],
      "metadata": {
        "id": "egDUNBFQ4G6q"
      }
    },
    {
      "cell_type": "markdown",
      "source": [
        "## Introducción"
      ],
      "metadata": {
        "id": "9Gl7BNQ1pvAh"
      }
    },
    {
      "cell_type": "markdown",
      "source": [
        "<p style=\"text-align:justify;\">\n",
        "Hoy quiero compartir un poco sobre un tema que me parece fascinante en el campo de la Ciencia de Datos, en específico, en Estadística Bayesiana.\n",
        "En este Post exploraremos la Distribución Beta como función de densidad a priori para un modelo Bayesiano, ofreciendo una combinación única entre teoría y práctica para comprender mejor este concepto fundamental en el análisis Estadístico.\n",
        "</p>\n"
      ],
      "metadata": {
        "id": "EGe9jx946m14"
      }
    },
    {
      "cell_type": "markdown",
      "source": [
        "## Planteamiento de la pregunta"
      ],
      "metadata": {
        "id": "75rgGaVRn1Ta"
      }
    },
    {
      "cell_type": "markdown",
      "source": [
        "<p style=\"text-align:justify;\">\n",
        "La idea de escribir este Post surgió cuando leí una publicación en la que el autor se planteaba una pregunta intrigante sobre qué tipo de experimento con observaciones binarias podría ser modelado con una distribución beta con parámetros $a=b=0.1$ como función a priori, esta función de densidad tiene la siguiente forma:\n",
        "</p>"
      ],
      "metadata": {
        "id": "bcjji9ox7L7o"
      }
    },
    {
      "cell_type": "code",
      "source": [
        "#Import libraries\n",
        "import scipy.stats as ss\n",
        "import matplotlib.pyplot as plt\n",
        "import numpy as np\n",
        "\n",
        "# Define the parameters of the beta distribution\n",
        "a, b = .1,.1\n",
        "\n",
        "# Generate the x-axis values\n",
        "x_axis = np.linspace(0, 1, 100)\n",
        "\n",
        "# Calculate the beta density function\n",
        "y_axis = ss.beta.pdf(x_axis, a, b)\n",
        "\n",
        "# Create the plot\n",
        "plt.plot(x_axis, y_axis, linewidth=2)\n",
        "\n",
        "# Set the title and axis labels\n",
        "plt.title('Beta Density (a=b=0.1)')\n",
        "plt.xlabel('x')\n",
        "plt.ylabel('Density')\n",
        "\n",
        "# Show the plot\n",
        "plt.show()"
      ],
      "metadata": {
        "colab": {
          "base_uri": "https://localhost:8080/",
          "height": 472
        },
        "id": "r4vIKHjO439Z",
        "outputId": "c5de1259-7b65-4aa8-8453-fad8d84e344a"
      },
      "execution_count": null,
      "outputs": [
        {
          "output_type": "display_data",
          "data": {
            "text/plain": [
              "<Figure size 640x480 with 1 Axes>"
            ],
            "image/png": "[encoded data removed]"
          },
          "metadata": {}
        }
      ]
    },
    {
      "cell_type": "markdown",
      "source": [
        "Podríamos llamarle a esta función de densidad la “función Batman”, por la evidente similitud con unos cuernos.\n",
        "\n",
        "Si se te ocurre algún ejemplo práctico para responder a esta pregunta podrías dejarlo en los comentarios.\n"
      ],
      "metadata": {
        "id": "eb59gAFW8dq6"
      }
    },
    {
      "cell_type": "markdown",
      "source": [
        "## Desarrollo teórico"
      ],
      "metadata": {
        "id": "uVUrPzXJpnUO"
      }
    },
    {
      "cell_type": "markdown",
      "source": [
        "**Distribución Beta**\n",
        "\n",
        "Para dar una respuesta a esta pregunta, primero recordemos que una variable aleatoria $Y$ con distribución beta tiene una función de densidad dada por:\n",
        "\n",
        "$$ f(y;a,b) = \\frac{\\Gamma(a+b)}{\\Gamma(a)\\Gamma(b)}y^{a-1}(1-y)^{b - 1},$$ para $0\\leq y\\leq 1$, $b>0$ y $a>0$, donde $\\Gamma$ es la función gamma.\n",
        "\n",
        "**Distribución Bernoulli**\n",
        "\n",
        "La función de densidad de una variable aleatoria $X$ con distribución Bernoulli está dado por:\n",
        "\n",
        "$$f(x;\\theta)=\\theta^x(1-\\theta)^{1-x},$$\n",
        "\n",
        "para $x\\in\\{0,1\\}$ y $0\\leq\\theta\\leq 1.$\n",
        "\n",
        "\n",
        "---\n",
        "\n",
        "**Modelo Bayesiano**\n",
        "\n",
        "Ahora, sean $X_1,\\dots,X_n$ una muestra aleatoria con función de densidad $f(x\\mid\\theta)$.\n",
        "\n",
        "Para una muestra observada $\\textbf{x}=x_1,\\dots,x_n$, en el contexto de Estadística Bayesiana, la *función de densidad a posteriori* del parámetro $\\theta$ está dada por:\n",
        "\n",
        "$$p\\left(\\theta\\mid \\textbf{x}\\right)=\\frac{p\\left(\\textbf{x}\\mid \\theta\\right)p\\left(\\theta\\right)}{\\displaystyle\\int\\limits_{\\Theta}{p\\left(\\textbf{x}\\mid \\widetilde{\\theta}\\right)p\\left(\\widetilde{\\theta}\\right)d\\widetilde{\\theta}}},$$\n",
        "\n",
        "donde $\\Theta$ representa al espacio parámetrico, $p(\\theta)$ es la **función a priori** y $p\\left(\\textbf{x}\\mid \\theta\\right)$ es la función de verosimilitud. Esto es, por el supuesto de independencia tenemos:\n",
        "\n",
        "$$p\\left(\\textbf{x}\\mid \\theta\\right)=\\mathcal{L}\\left(\\theta;\\textbf{x}\\right)=\\prod_{i=1}^nf\\left(x_i\\mid \\theta\\right).$$"
      ],
      "metadata": {
        "id": "1FdcW3Le88l7"
      }
    },
    {
      "cell_type": "markdown",
      "source": [
        "## Ejemplificación y simulaciones"
      ],
      "metadata": {
        "id": "aoEEO1YPzfns"
      }
    },
    {
      "cell_type": "markdown",
      "source": [
        "La pregunta en cuestión nos dirige al siguiente planteamiento:\n",
        "\n",
        "Sea $X_1,\\dots,X_n$ una muestra aleatoria con $X_i\\sim\\textit{Bernoulli}(\\theta)$ y definimos a la función a priori de modo que $\\theta\\sim Beta(a,b)$.\n",
        "\n",
        "Además, al calcular la función de densidad a posteriori es fácil ver que $\\theta\\mid \\textbf{x}\\sim Beta\\left(a+\\sum_{i=1}^n x_i,b+n-\\sum_{i=1}^n x_i\\right).$\n",
        "\n",
        "En el siguiente código se muestra un ejemplo para este modelo, para lo cual realizamos los siguiente pasos:\n",
        "1. Simulamos un valor de $\\theta$ a partir de una distribución $Beta(0.1,0.1)$\n",
        "2. Simulamos 100 observaciones Bernoulli con el parámetro obtenido en paso anterior\n",
        "3. Graficamos la densidad a posteriori de $\\theta\\mid\\textbf{x}$ y marcamos el valor simulado de $\\theta$"
      ],
      "metadata": {
        "id": "fh5LXXLMmMww"
      }
    },
    {
      "cell_type": "code",
      "execution_count": null,
      "metadata": {
        "colab": {
          "base_uri": "https://localhost:8080/",
          "height": 545
        },
        "id": "SlHnopPEwc_H",
        "outputId": "df980059-dccb-4444-8714-246499fab7f3"
      },
      "outputs": [
        {
          "output_type": "stream",
          "name": "stdout",
          "text": [
            "Real value of θ: [0.92559555]\n",
            "Simulated data: [1 1 1 1 1 0 1 1 1 1 1 1 1 1 1 1 1 1 1 1 1 1 1 0 1 1 1 1 1 1 1 1 1 1 1 1 1\n",
            " 1 1 1 1 1 1 1 0 1 1 1 1 1 1 0 0 1 1 1 1 1 1 1 1 0 1 1 1 1 0 1 1 1 1 1 1 1\n",
            " 1 1 1 1 1 1 1 1 1 1 1 1 1 1 1 1 1 1 1 1 1 1 1 1 1 1]\n"
          ]
        },
        {
          "output_type": "display_data",
          "data": {
            "text/plain": [
              "<Figure size 640x480 with 1 Axes>"
            ],
            "image/png": "[encoded data removed]"
          },
          "metadata": {}
        }
      ],
      "source": [
        "#Simulate 1 value from a beta distribution with parameters 0.1 and 0.1\n",
        "np.random.seed(seed=18)\n",
        "a, b = .1,.1\n",
        "p = ss.beta.rvs(a, b, size=1)\n",
        "\n",
        "print('Real value of \\u03B8:',p)\n",
        "\n",
        "# Simulating 100 values from\n",
        "n = 100\n",
        "x = ss.bernoulli.rvs(p, size = n)\n",
        "print('Simulated data:', x)\n",
        "\n",
        "# Calculate the posteriori density function\n",
        "x_axis = np.linspace(0, 1, 200)\n",
        "y_axis = ss.beta.pdf(x_axis, a+sum(x), b+n-sum(x))\n",
        "\n",
        "# Create the plot\n",
        "plt.plot(x_axis, y_axis, linewidth=2)\n",
        "\n",
        "# Set the title and axis labels\n",
        "plt.title('Posterior Density')\n",
        "plt.xlabel(r\"$\\theta$\")\n",
        "plt.ylabel('Density')\n",
        "plt.plot(p, 0, 'x', ms=5, color = 'red', label='Real value')\n",
        "plt.legend()\n",
        "\n",
        "# Show the plot\n",
        "plt.show()"
      ]
    },
    {
      "cell_type": "markdown",
      "source": [
        "En este caso, al simular un valor de la distribución $Beta$ con parámetros $a=b=0.1$ obtuvimos $0.92559555$ y, como es de esperarse, la función a posteriori parece modelar correctamente dicho valor.\n",
        "\n",
        "Al correr el código anterior varias veces podemos ver que este comportamiento se repite para cualquier valor simulado de $\\theta$ y para cualesquiera observaciones:"
      ],
      "metadata": {
        "id": "r4PtxVhema9o"
      }
    },
    {
      "cell_type": "code",
      "source": [
        "import numpy as np\n",
        "import matplotlib.pyplot as plt\n",
        "from ipywidgets import interact_manual, IntSlider, FloatSlider, Button, fixed,  Button, Layout, jslink, IntText, IntSlider, AppLayout, Button, Layout\n",
        "from IPython.display import clear_output\n",
        "\n",
        "def plot_post(n,a,b):\n",
        "    \"\"\"\n",
        "    Function to plot the prior and posterior densities.\n",
        "\n",
        "    Parameters:\n",
        "    - n: Number of observations\n",
        "    - a, b: Parameters of the prior Beta distribution\n",
        "    \"\"\"\n",
        "    # Generar 'n' observaciones aleatorias de una distribución normal estándar\n",
        "    p = ss.beta.rvs(a, b, size=1)\n",
        "\n",
        "    print('Real value of \\u03B8:',p)\n",
        "\n",
        "\n",
        "    # Calcular la densidad a priori\n",
        "    prior_x = np.linspace(0, 1, 1000)\n",
        "    prior_y = ss.beta.pdf(prior_x, a, b)\n",
        "\n",
        "    # Simulating 100 values from\n",
        "    x = ss.bernoulli.rvs(p, size = n)\n",
        "\n",
        "    #\n",
        "    zero_count = np.sum(x == 0)\n",
        "    one_count = n - zero_count\n",
        "    print('Number of zeros:', zero_count, '\\nNumber of ones:', one_count)\n",
        "\n",
        "    # Calculate the posteriori density function\n",
        "    x_axis = np.linspace(0, 1, 200)\n",
        "    y_axis = ss.beta.pdf(x_axis, a+sum(x), b+n-sum(x))\n",
        "\n",
        "    # Create the plot\n",
        "    plt.plot(prior_x, prior_y, label='Prior Density', color='green', linestyle='--')\n",
        "    plt.plot(x_axis, y_axis, label = 'Posterior Density', color='blue')\n",
        "\n",
        "\n",
        "    # Set the title and axis labels\n",
        "    plt.title('Posterior Density')\n",
        "    plt.xlabel(r\"$\\theta$\")\n",
        "    plt.ylabel('Density')\n",
        "    plt.plot(p, 0, 'x', ms=5, color = 'red', label='Real value')\n",
        "    plt.legend()\n",
        "\n",
        "    # Show the plot\n",
        "    plt.show()\n",
        "\n",
        "\n",
        "# Define the interactive sliders\n",
        "n_slider = IntSlider(min=10, max=100, step=10, value=20)\n",
        "a_slider = FloatSlider(min=0.1, max=10, step=0.1, value=.1)\n",
        "b_slider = FloatSlider(min=0.1, max=10, step=0.1, value=.1)\n",
        "\n",
        "# Create the interactive plot\n",
        "im = interact_manual(plot_post, n=n_slider, a=a_slider, b=b_slider)\n",
        "im.widget.children[3].description = 'Update Plot'\n",
        "\n",
        "\n",
        "\n",
        "def create_expanded_button(description, button_style):\n",
        "    return Button(description=description, button_style=button_style, layout=Layout(height='auto', width='auto'))\n",
        "\n",
        "left_button = create_expanded_button('Left', 'info')\n",
        "center_button = create_expanded_button('Center', 'warning')\n",
        "\n",
        "\n",
        "\n",
        "AppLayout(header=None,\n",
        "          left_sidebar=n_slider,\n",
        "          center=center_button,\n",
        "          right_sidebar=None,\n",
        "          footer=None)\n",
        "\n"
      ],
      "metadata": {
        "colab": {
          "base_uri": "https://localhost:8080/",
          "height": 687,
          "referenced_widgets": [
            "38f9fe9e3afb423da2eb4fb15dfc230b",
            "a736e227aa5549e9b50680c18a61cb27",
            "ec7235a629c04776a4e2ba45757a5e2e",
            "ab503ddd5e8d4d3ab4bf00c53af294d1",
            "ef5a382a2185435791c9fda55fbb32bc",
            "5bda8dc4c5b847469fd1e9d4c5f7ec6d",
            "c78e09df097b473a8897a165ee7fcaf3",
            "fb7928d6ac754adaa220cc134544186e",
            "f56999d04f6f4bd5960f1b8c609ebc9c",
            "a8a0ae7e211841099e74528e70ae9b01",
            "4ef75657df3f49b3a45315f15ff67702",
            "77a8c803d82d4c27b68eaa4f7627869a",
            "2a4bf14b4756490ba016c90e8b63a19d",
            "828252827ff2440092707b959de74876",
            "8038ad3d7f704b7ca330417c9a7560fd",
            "b37faeff29d84b08b6c0f3f1f99e33bd",
            "7db6957541d64d4d96b36892662178df",
            "730151ed4cc5439581b7d44097f0ecfb",
            "cb02ae2efa904d0bacfb5b8aad810215",
            "175193146d0544d185c3a2156683a516",
            "5549bc301477452cb6e8eb8854a5f601"
          ]
        },
        "id": "2VYx0zV6Gzpr",
        "outputId": "e759fbb6-c24b-441c-db8f-e12e2ebcd120"
      },
      "execution_count": null,
      "outputs": [
        {
          "output_type": "display_data",
          "data": {
            "text/plain": [
              "interactive(children=(IntSlider(value=20, description='n', min=10, step=10), FloatSlider(value=0.1, descriptio…"
            ],
            "application/vnd.jupyter.widget-view+json": {
              "version_major": 2,
              "version_minor": 0,
              "model_id": "38f9fe9e3afb423da2eb4fb15dfc230b"
            }
          },
          "metadata": {}
        },
        {
          "output_type": "display_data",
          "data": {
            "text/plain": [
              "AppLayout(children=(IntSlider(value=20, description='n', layout=Layout(grid_area='left-sidebar'), min=10, step…"
            ],
            "application/vnd.jupyter.widget-view+json": {
              "version_major": 2,
              "version_minor": 0,
              "model_id": "7db6957541d64d4d96b36892662178df"
            }
          },
          "metadata": {}
        }
      ]
    },
    {
      "cell_type": "markdown",
      "source": [
        "Es crucial notar que para este modelo la distribución Beta modela el parámetro de la distribución Bernoulli y no los resultados binarios directamente.\n",
        "\n",
        "Adicionalmente, podemos observar que la disitribución Beta con parámetros $a=b=0.1$ no necesariamente implica que las observaciones serán todas iguales a 0 o todas iguales a 1. En otras palabras, al simular valores de la distribución Beta propuesta es poco probable obtener exactamente el valor 0 o el valor 1. Sin embargo, dada la forma de la densidad Beta, sí esperamos obtener valores que se encuentren con una fuerte tendencia a estar cerca del 0 o cerca del 1."
      ],
      "metadata": {
        "id": "lP11uiTat6yf"
      }
    },
    {
      "cell_type": "code",
      "source": [],
      "metadata": {
        "id": "2rKm3dfdStrd"
      },
      "execution_count": null,
      "outputs": []
    },
    {
      "cell_type": "markdown",
      "source": [
        "## Respuesta a la pregunta"
      ],
      "metadata": {
        "id": "vcvFW_N7wGhM"
      }
    },
    {
      "cell_type": "markdown",
      "source": [
        "Respondiendo a la pregunta original, un experimento sencillo que podría ser modelado con el desarrollo anterior sería el siguiente: imaginemos una bolsa que contiene una mezcla de monedas, donde la mitad de ellas están sesgadas hacia el cero y la otra mitad hacia el uno. Al seleccionar una moneda al azar de esta bolsa y lanzarla, observaremos el resultado para determinar si cae cara (1) o cruz (0).\n",
        "\n",
        "En realidad, cualquier experimento con resultados binarios, del cual tengamos indicios para pensar que el parámetro está sesgado hacia algún extremo podría ser descrito utilizando este modelo. Otros ejemplos incluyen:\n",
        "\n",
        "*   **Prueba de calidad de productos:** Se determina si un producto es aceptable o no. A priori, sabemos que hay dos tipos de materiales involucrados: uno con una baja probabilidad de pasar la prueba y otro con una alta probabilidad de pasarla. Al realizar la prueba en un producto seleccionado al azar, observamos el resultado para determinar si cumple o no con los estándares de calidad establecidos.\n",
        "\n",
        "*   **Suceptibilidad a la compra:** La población objetivo se divide en dos grupos: uno con una tendencia a comprar después de ver la publicidad y otro con una tendencia a no dejarse influenciar por la publicidad. Al evaluar la respuesta de una persona seleccionada al azar ante la publicidad, observamos si realiza la compra o no.\n",
        "\n",
        "Estos ejemplos ilustran cómo el modelo puede aplicarse a situaciones del mundo real con resultados binarios, ofreciendo una manera poderosa de entender y analizar datos en diversas áreas."
      ],
      "metadata": {
        "id": "sVoEqkIK9eUK"
      }
    },
    {
      "cell_type": "markdown",
      "source": [
        "## Modificando los parámetros de la distribución Beta"
      ],
      "metadata": {
        "id": "f1aftRffo05p"
      }
    },
    {
      "cell_type": "markdown",
      "source": [
        "In a situation where we know a priori that the observations has a tendency towards one side, let's say, towards 0, it would be reasonable to use a beta prior density with different parameters, lets say α=0.1 and β=5. The density of this function is shown in the image."
      ],
      "metadata": {
        "id": "e5HDmgUCo1m8"
      }
    },
    {
      "cell_type": "code",
      "source": [
        "# Define the parameters of the beta distribution\n",
        "a, b = .1,5\n",
        "\n",
        "# Generate the x-axis values\n",
        "x_axis = np.linspace(0, 1, 100)\n",
        "\n",
        "# Calculate the beta density function\n",
        "y_axis = ss.beta.pdf(x_axis, a, b)\n",
        "\n",
        "# Create the plot\n",
        "plt.plot(x_axis, y_axis, linewidth=2)\n",
        "\n",
        "# Set the title and axis labels\n",
        "plt.title('Beta Density (a=b=0.1)')\n",
        "plt.xlabel('x')\n",
        "plt.ylabel('Density')\n",
        "\n",
        "# Show the plot\n",
        "plt.show()"
      ],
      "metadata": {
        "colab": {
          "base_uri": "https://localhost:8080/",
          "height": 472
        },
        "id": "wk1i580spMHL",
        "outputId": "be951736-b518-4fc6-bd5f-54db093b26fb"
      },
      "execution_count": null,
      "outputs": [
        {
          "output_type": "display_data",
          "data": {
            "text/plain": [
              "<Figure size 640x480 with 1 Axes>"
            ],
            "image/png": "[encoded data removed]"
          },
          "metadata": {}
        }
      ]
    }
  ]
}